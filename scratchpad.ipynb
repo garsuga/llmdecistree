{
 "cells": [
  {
   "cell_type": "code",
   "execution_count": 1,
   "id": "fd5d459f",
   "metadata": {},
   "outputs": [
    {
     "name": "stdout",
     "output_type": "stream",
     "text": [
      "{'encoding': 'Windows-1252', 'confidence': 0.73, 'language': ''}\n"
     ]
    }
   ],
   "source": [
    "import chardet\n",
    "\n",
    "with open(\"data-unspsc-codes.csv\", 'rb') as f:\n",
    "    result = chardet.detect(f.read())\n",
    "    print(result)"
   ]
  },
  {
   "cell_type": "code",
   "execution_count": 2,
   "id": "273e3806",
   "metadata": {},
   "outputs": [
    {
     "data": {
      "text/html": [
       "<div>\n",
       "<style scoped>\n",
       "    .dataframe tbody tr th:only-of-type {\n",
       "        vertical-align: middle;\n",
       "    }\n",
       "\n",
       "    .dataframe tbody tr th {\n",
       "        vertical-align: top;\n",
       "    }\n",
       "\n",
       "    .dataframe thead th {\n",
       "        text-align: right;\n",
       "    }\n",
       "</style>\n",
       "<table border=\"1\" class=\"dataframe\">\n",
       "  <thead>\n",
       "    <tr style=\"text-align: right;\">\n",
       "      <th></th>\n",
       "      <th>Segment</th>\n",
       "      <th>Segment Name</th>\n",
       "      <th>Family</th>\n",
       "      <th>Family Name</th>\n",
       "      <th>Class</th>\n",
       "      <th>Class Name</th>\n",
       "      <th>Commodity</th>\n",
       "      <th>Commodity Name</th>\n",
       "    </tr>\n",
       "  </thead>\n",
       "  <tbody>\n",
       "    <tr>\n",
       "      <th>0</th>\n",
       "      <td>10000000</td>\n",
       "      <td>Live Plant and Animal Material and Accessories...</td>\n",
       "      <td>10100000</td>\n",
       "      <td>Live animals</td>\n",
       "      <td>10101500</td>\n",
       "      <td>Livestock</td>\n",
       "      <td>10101501</td>\n",
       "      <td>Cats</td>\n",
       "    </tr>\n",
       "    <tr>\n",
       "      <th>1</th>\n",
       "      <td>10000000</td>\n",
       "      <td>Live Plant and Animal Material and Accessories...</td>\n",
       "      <td>10100000</td>\n",
       "      <td>Live animals</td>\n",
       "      <td>10101500</td>\n",
       "      <td>Livestock</td>\n",
       "      <td>10101502</td>\n",
       "      <td>Dogs</td>\n",
       "    </tr>\n",
       "    <tr>\n",
       "      <th>2</th>\n",
       "      <td>10000000</td>\n",
       "      <td>Live Plant and Animal Material and Accessories...</td>\n",
       "      <td>10100000</td>\n",
       "      <td>Live animals</td>\n",
       "      <td>10101500</td>\n",
       "      <td>Livestock</td>\n",
       "      <td>10101504</td>\n",
       "      <td>Mink</td>\n",
       "    </tr>\n",
       "    <tr>\n",
       "      <th>3</th>\n",
       "      <td>10000000</td>\n",
       "      <td>Live Plant and Animal Material and Accessories...</td>\n",
       "      <td>10100000</td>\n",
       "      <td>Live animals</td>\n",
       "      <td>10101500</td>\n",
       "      <td>Livestock</td>\n",
       "      <td>10101505</td>\n",
       "      <td>Rats</td>\n",
       "    </tr>\n",
       "    <tr>\n",
       "      <th>4</th>\n",
       "      <td>10000000</td>\n",
       "      <td>Live Plant and Animal Material and Accessories...</td>\n",
       "      <td>10100000</td>\n",
       "      <td>Live animals</td>\n",
       "      <td>10101500</td>\n",
       "      <td>Livestock</td>\n",
       "      <td>10101506</td>\n",
       "      <td>Horses</td>\n",
       "    </tr>\n",
       "  </tbody>\n",
       "</table>\n",
       "</div>"
      ],
      "text/plain": [
       "    Segment                                       Segment Name    Family  \\\n",
       "0  10000000  Live Plant and Animal Material and Accessories...  10100000   \n",
       "1  10000000  Live Plant and Animal Material and Accessories...  10100000   \n",
       "2  10000000  Live Plant and Animal Material and Accessories...  10100000   \n",
       "3  10000000  Live Plant and Animal Material and Accessories...  10100000   \n",
       "4  10000000  Live Plant and Animal Material and Accessories...  10100000   \n",
       "\n",
       "    Family Name     Class Class Name  Commodity Commodity Name  \n",
       "0  Live animals  10101500  Livestock   10101501           Cats  \n",
       "1  Live animals  10101500  Livestock   10101502           Dogs  \n",
       "2  Live animals  10101500  Livestock   10101504           Mink  \n",
       "3  Live animals  10101500  Livestock   10101505           Rats  \n",
       "4  Live animals  10101500  Livestock   10101506         Horses  "
      ]
     },
     "execution_count": 2,
     "metadata": {},
     "output_type": "execute_result"
    }
   ],
   "source": [
    "import pandas as pd\n",
    "\n",
    "df = pd.read_csv(\"data-unspsc-codes.csv\", encoding=result['encoding'])\n",
    "\n",
    "df.head()"
   ]
  },
  {
   "cell_type": "code",
   "execution_count": 3,
   "id": "81a30e23",
   "metadata": {},
   "outputs": [],
   "source": [
    "cat_cols = [\"Segment Name\", \"Family Name\", \"Class Name\", \"Commodity Name\"]"
   ]
  },
  {
   "cell_type": "code",
   "execution_count": null,
   "id": "b83365d6",
   "metadata": {},
   "outputs": [
    {
     "name": "stdout",
     "output_type": "stream",
     "text": [
      "col: Segment Name\n",
      "unqiue: 57\n",
      "total: 71502\n",
      "\n",
      "next level:\n",
      "max:43\n",
      "avg:8.157894736842104\n",
      "\n",
      "Segment Name does NOT have ambiguous branches\n",
      "\n",
      "col: Family Name\n",
      "unqiue: 465\n",
      "total: 71502\n",
      "\n",
      "next level:\n",
      "max:67\n",
      "avg:11.425806451612903\n",
      "\n",
      "Family Name does NOT have ambiguous branches\n",
      "\n",
      "col: Class Name\n",
      "unqiue: 5313\n",
      "total: 71502\n",
      "\n",
      "next level:\n",
      "max:99\n",
      "avg:13.45793337097685\n",
      "\n",
      "Class Name does NOT have ambiguous branches\n",
      "\n",
      "col: Commodity Name\n",
      "unqiue: 71502\n",
      "total: 71502\n",
      "\n"
     ]
    }
   ],
   "source": [
    "from itertools import combinations\n",
    "\n",
    "for i, col in enumerate(cat_cols):\n",
    "    unique = pd.unique(df[col])\n",
    "    n_unqiue = len(unique)\n",
    "        \n",
    "    total = len(df[col])\n",
    "    print(f\"col: {col}\\nunqiue: {n_unqiue}\\ntotal: {total}\\n\")\n",
    "    \n",
    "    if i < len(cat_cols) - 1:\n",
    "        next_branch_counts = []\n",
    "        next_branches: dict[str, set] = {}\n",
    "        \n",
    "        for uc in unique:\n",
    "            df_next = df[df[col] == uc]\n",
    "            next_branch_counts.append(len(pd.unique(df_next[cat_cols[i+1]])))\n",
    "            next_branches[uc] = set(pd.unique(df_next[cat_cols[i+1]]))\n",
    "    \n",
    "        print(f\"next level:\\nmax:{max(next_branch_counts)}\\navg:{sum(next_branch_counts)/len(next_branch_counts)}\\n\")\n",
    "        \n",
    "        ambiguous = False\n",
    "        for a, b in combinations(next_branches.keys(), 2):\n",
    "            intersection = next_branches[a] & next_branches[b]\n",
    "            if len(intersection) > 0:\n",
    "                ambiguous = True\n",
    "                print(f\"The following nodes appear in both {a} and {b} for {cat_cols[i+1]}: {intersection}\")\n",
    "            \n",
    "        if ambiguous:    \n",
    "            print(f\"{col} has ambiguous branches\\n\")\n",
    "        else:\n",
    "            print(f\"{col} does NOT have ambiguous branches\\n\")\n",
    "            "
   ]
  },
  {
   "cell_type": "code",
   "execution_count": 4,
   "id": "c0254eb6",
   "metadata": {},
   "outputs": [],
   "source": [
    "from typing import Callable, Union\n",
    "\n",
    "\n",
    "\n",
    "class Node:\n",
    "    \"\"\"Class representing a node in the tree\"\"\"\n",
    "    \n",
    "    breadcrumb_name: Union[str, None] = None\n",
    "    \"\"\"The name of the breadcrumb found in the original dataset or None\"\"\"\n",
    "    \n",
    "    condition: Union[str, None] = None\n",
    "    \"\"\"The description or condition representing belonging to this node or None if this Node is the root\"\"\"\n",
    "    \n",
    "    extras: dict[str, any]\n",
    "    \"\"\"Extra information stored at this node for enrichment\"\"\"\n",
    "    \n",
    "    parent: Union['Node', None]\n",
    "    \"\"\"The parent Node or None if this Node is the root\"\"\"\n",
    "    \n",
    "    children: list['Node']\n",
    "    \"\"\"The child Nodes\"\"\"\n",
    "    \n",
    "    # TODO: create next condition when children are updated\n",
    "    # TODO: children should be property\n",
    "    \n",
    "    def is_leaf(self) -> bool:\n",
    "        return len(self.children) == 0\n",
    "    \n",
    "    def is_root(self) -> bool:\n",
    "        return self.parent == None\n",
    "    \n",
    "    def is_from_breadcrumb(self) -> bool:\n",
    "        return self.breadcrumb_name != None\n",
    "    \n",
    "    def __init__(self, condition: str = None, parent: 'Node' = None, extras: dict[str, any] = {}):\n",
    "        self.condition = condition\n",
    "        self.parent = parent\n",
    "        self.extras = extras or {}\n",
    "        self.children = []\n",
    "        \n",
    "    def add_children(self, children: list['Node']):\n",
    "        self.children.extend(children)\n",
    "        \n",
    "        \n",
    "def _create_partial_tree_from_breadcrumb(df: pd.DataFrame, parent: Node, idx: int, breadcrumb_cols: list[str], extra_cols_map: dict[str, list[str]] = None) -> list[Node]:\n",
    "    breadcrumb_col = breadcrumb_cols[idx]\n",
    "    breadcrumbs = pd.unique(df[breadcrumb_col])\n",
    "    nodes = []\n",
    "    \n",
    "    for breadcrumb in breadcrumbs:\n",
    "        extras = {}\n",
    "        extra_cols = extra_cols_map.get(breadcrumb_col, []) if extra_cols_map else []\n",
    "        sub_df = df[df[breadcrumb_col] == breadcrumb]\n",
    "        for extra_col in extra_cols:\n",
    "            extras[extra_col] = pd.unique(sub_df[extra_col])\n",
    "        node = Node(condition=breadcrumb, parent=parent, extras=extras)\n",
    "        if idx + 1 < len(breadcrumb_cols):\n",
    "            node.add_children(_create_partial_tree_from_breadcrumb(sub_df, node, idx + 1, breadcrumb_cols=breadcrumb_cols, extra_cols_map=extra_cols_map))\n",
    "        nodes.append(node)\n",
    "    return nodes\n",
    "        \n",
    "        \n",
    "    \n",
    "    \n",
    "def create_tree_from_breadcrumbs(df: pd.DataFrame, breadcrumb_cols: list[str], extra_cols_map: dict[str, list[str]] = None) -> Node:\n",
    "    \"\"\"_Create a tree from breadcrumbs left in the dataset. Suitable for datasets with an existing heirarchy. `breadcrumb_cols` is an ordered list of columns that represent heirarchical levels. `extra_cols_map` contains extra columns to store in `Node.extras` for each breadcrumb if applicable._\n",
    "\n",
    "    \n",
    "    Args:\n",
    "        df (pd.DataFrame): dataset\n",
    "        breadcrumb_cols (list[str]): ordered heirarchy columns\n",
    "        extra_cols_map (dict[str, list[str]], optional): list of extra columns to enrich nodes for each breadcrumb column. Defaults to None.\n",
    "    \"\"\"\n",
    "    \n",
    "    root = Node()\n",
    "    root.add_children(_create_partial_tree_from_breadcrumb(df, parent=root, idx=0, breadcrumb_cols=breadcrumb_cols, extra_cols_map=extra_cols_map))\n",
    "    return root\n",
    "    "
   ]
  },
  {
   "cell_type": "code",
   "execution_count": 5,
   "id": "38f7718e",
   "metadata": {},
   "outputs": [],
   "source": [
    "root = create_tree_from_breadcrumbs(df, breadcrumb_cols=[\"Segment Name\", \"Family Name\", \"Class Name\", \"Commodity Name\"], extra_cols_map={\"Segment Name\": [\"Segment\"], \"Family Name\": [\"Family\"], \"Class Name\": [\"Class\"], \"Commodity Name\": [\"Commodity\"]})"
   ]
  },
  {
   "cell_type": "code",
   "execution_count": 6,
   "id": "20e965e2",
   "metadata": {},
   "outputs": [],
   "source": [
    "def _check_branches(nodes: list[Node]):\n",
    "    from itertools import combinations\n",
    "\n",
    "\n",
    "    n_sub_branches = 0\n",
    "    max_sub_branches = 0\n",
    "    all_children = []\n",
    "    for node in nodes:\n",
    "        n_sub_branches += len(node.children)\n",
    "        all_children.extend(node.children)\n",
    "        max_sub_branches = max(len(node.children), max_sub_branches)\n",
    "    \n",
    "    avg_sub_branches = n_sub_branches / len(nodes)\n",
    "    \n",
    "    print(f\"sub_branches: {n_sub_branches}, avg: {avg_sub_branches}, max: {max_sub_branches}\\n\")\n",
    "    \n",
    "    if len(all_children) > 0:\n",
    "        _check_branches(all_children)\n",
    "\n",
    "def check_tree(root: Node):\n",
    "    _check_branches(nodes=root.children)"
   ]
  },
  {
   "cell_type": "code",
   "execution_count": 7,
   "id": "35581380",
   "metadata": {},
   "outputs": [
    {
     "name": "stdout",
     "output_type": "stream",
     "text": [
      "sub_branches: 465, avg: 8.157894736842104, max: 43\n",
      "\n",
      "sub_branches: 5313, avg: 11.425806451612903, max: 67\n",
      "\n",
      "sub_branches: 71502, avg: 13.45793337097685, max: 99\n",
      "\n",
      "sub_branches: 0, avg: 0.0, max: 0\n",
      "\n"
     ]
    }
   ],
   "source": [
    "check_tree(root)"
   ]
  },
  {
   "cell_type": "code",
   "execution_count": 8,
   "id": "709665be",
   "metadata": {},
   "outputs": [],
   "source": [
    "import plotly.express as px\n",
    "\n",
    "def display_tree(root: Node):\n",
    "    labels = []\n",
    "    parents = []\n",
    "\n",
    "    def traverse(node: Node, parent_label: str = \"\"):\n",
    "        label = str(node.condition or \"Unnamed\")\n",
    "        labels.append(label)\n",
    "        parents.append(parent_label)\n",
    "\n",
    "        for child in node.children:\n",
    "            traverse(child, parent_label=label)\n",
    "\n",
    "    traverse(root)\n",
    "\n",
    "    fig = px.sunburst(\n",
    "        names=labels,\n",
    "        parents=parents,\n",
    "    )\n",
    "    fig.update_layout(margin=dict(t=10, l=10, r=10, b=10))\n",
    "    fig.show()\n"
   ]
  },
  {
   "cell_type": "code",
   "execution_count": 59,
   "id": "adf2b190",
   "metadata": {},
   "outputs": [],
   "source": [
    "def get_node_conditions(node: Node):\n",
    "    n = node\n",
    "    labels = []\n",
    "    while n != None:\n",
    "        if n.condition is not None:\n",
    "            labels.append(n.condition)\n",
    "        n = n.parent\n",
    "        \n",
    "    return list(reversed(labels))\n",
    "\n",
    "def format_node(node: Node):\n",
    "    labels = get_node_conditions(node=node)\n",
    "    return \" > \".join(labels)"
   ]
  },
  {
   "cell_type": "code",
   "execution_count": 69,
   "id": "2035b281",
   "metadata": {},
   "outputs": [
    {
     "name": "stdout",
     "output_type": "stream",
     "text": [
      "Resin and Rosin and Rubber and Foam and Film and Elastomeric Materials > Rubber and elastomers > Elastomers\n"
     ]
    },
    {
     "data": {
      "application/vnd.plotly.v1+json": {
       "config": {
        "plotlyServerURL": "https://plot.ly"
       },
       "data": [
        {
         "domain": {
          "x": [
           0,
           1
          ],
          "y": [
           0,
           1
          ]
         },
         "hovertemplate": "label=%{label}<br>parent=%{parent}<extra></extra>",
         "labels": [
          "Elastomers",
          "Acrylonitrile butadiene NBR",
          "Highly saturated nitrile HNBR",
          "Fluorocarbon FKM",
          "Ethylene propylene EP",
          "Styrene butadiene SBR",
          "Chloroprene CR",
          "Isobutylene isoprene IIR/XIIR",
          "Silicone VMQ and PMQ and PVMQ",
          "Fluorosilicone FVMQ",
          "Polyacrylate ACM",
          "Ethylene acrylic AEM",
          "Chlorosulfonated polyethylene CSM",
          "Chloropolyethylene CM",
          "Epichlorohydrin ECO",
          "Natural polyisoprene NR",
          "Synthetic polyisoprene IR",
          "Polyester urethane AU",
          "Polyether urethane EU",
          "Polybutadiene BR",
          "Polyether block amide PEBA",
          "Styrene block coploymer TES",
          "Copolyester",
          "Thermoplastic",
          "Polyolenfinic",
          "Ethylene propylene diene EPDM"
         ],
         "name": "",
         "parents": [
          "",
          "Elastomers",
          "Elastomers",
          "Elastomers",
          "Elastomers",
          "Elastomers",
          "Elastomers",
          "Elastomers",
          "Elastomers",
          "Elastomers",
          "Elastomers",
          "Elastomers",
          "Elastomers",
          "Elastomers",
          "Elastomers",
          "Elastomers",
          "Elastomers",
          "Elastomers",
          "Elastomers",
          "Elastomers",
          "Elastomers",
          "Elastomers",
          "Elastomers",
          "Elastomers",
          "Elastomers",
          "Elastomers"
         ],
         "type": "sunburst"
        }
       ],
       "layout": {
        "legend": {
         "tracegroupgap": 0
        },
        "margin": {
         "b": 10,
         "l": 10,
         "r": 10,
         "t": 10
        },
        "template": {
         "data": {
          "bar": [
           {
            "error_x": {
             "color": "#2a3f5f"
            },
            "error_y": {
             "color": "#2a3f5f"
            },
            "marker": {
             "line": {
              "color": "#E5ECF6",
              "width": 0.5
             },
             "pattern": {
              "fillmode": "overlay",
              "size": 10,
              "solidity": 0.2
             }
            },
            "type": "bar"
           }
          ],
          "barpolar": [
           {
            "marker": {
             "line": {
              "color": "#E5ECF6",
              "width": 0.5
             },
             "pattern": {
              "fillmode": "overlay",
              "size": 10,
              "solidity": 0.2
             }
            },
            "type": "barpolar"
           }
          ],
          "carpet": [
           {
            "aaxis": {
             "endlinecolor": "#2a3f5f",
             "gridcolor": "white",
             "linecolor": "white",
             "minorgridcolor": "white",
             "startlinecolor": "#2a3f5f"
            },
            "baxis": {
             "endlinecolor": "#2a3f5f",
             "gridcolor": "white",
             "linecolor": "white",
             "minorgridcolor": "white",
             "startlinecolor": "#2a3f5f"
            },
            "type": "carpet"
           }
          ],
          "choropleth": [
           {
            "colorbar": {
             "outlinewidth": 0,
             "ticks": ""
            },
            "type": "choropleth"
           }
          ],
          "contour": [
           {
            "colorbar": {
             "outlinewidth": 0,
             "ticks": ""
            },
            "colorscale": [
             [
              0,
              "#0d0887"
             ],
             [
              0.1111111111111111,
              "#46039f"
             ],
             [
              0.2222222222222222,
              "#7201a8"
             ],
             [
              0.3333333333333333,
              "#9c179e"
             ],
             [
              0.4444444444444444,
              "#bd3786"
             ],
             [
              0.5555555555555556,
              "#d8576b"
             ],
             [
              0.6666666666666666,
              "#ed7953"
             ],
             [
              0.7777777777777778,
              "#fb9f3a"
             ],
             [
              0.8888888888888888,
              "#fdca26"
             ],
             [
              1,
              "#f0f921"
             ]
            ],
            "type": "contour"
           }
          ],
          "contourcarpet": [
           {
            "colorbar": {
             "outlinewidth": 0,
             "ticks": ""
            },
            "type": "contourcarpet"
           }
          ],
          "heatmap": [
           {
            "colorbar": {
             "outlinewidth": 0,
             "ticks": ""
            },
            "colorscale": [
             [
              0,
              "#0d0887"
             ],
             [
              0.1111111111111111,
              "#46039f"
             ],
             [
              0.2222222222222222,
              "#7201a8"
             ],
             [
              0.3333333333333333,
              "#9c179e"
             ],
             [
              0.4444444444444444,
              "#bd3786"
             ],
             [
              0.5555555555555556,
              "#d8576b"
             ],
             [
              0.6666666666666666,
              "#ed7953"
             ],
             [
              0.7777777777777778,
              "#fb9f3a"
             ],
             [
              0.8888888888888888,
              "#fdca26"
             ],
             [
              1,
              "#f0f921"
             ]
            ],
            "type": "heatmap"
           }
          ],
          "histogram": [
           {
            "marker": {
             "pattern": {
              "fillmode": "overlay",
              "size": 10,
              "solidity": 0.2
             }
            },
            "type": "histogram"
           }
          ],
          "histogram2d": [
           {
            "colorbar": {
             "outlinewidth": 0,
             "ticks": ""
            },
            "colorscale": [
             [
              0,
              "#0d0887"
             ],
             [
              0.1111111111111111,
              "#46039f"
             ],
             [
              0.2222222222222222,
              "#7201a8"
             ],
             [
              0.3333333333333333,
              "#9c179e"
             ],
             [
              0.4444444444444444,
              "#bd3786"
             ],
             [
              0.5555555555555556,
              "#d8576b"
             ],
             [
              0.6666666666666666,
              "#ed7953"
             ],
             [
              0.7777777777777778,
              "#fb9f3a"
             ],
             [
              0.8888888888888888,
              "#fdca26"
             ],
             [
              1,
              "#f0f921"
             ]
            ],
            "type": "histogram2d"
           }
          ],
          "histogram2dcontour": [
           {
            "colorbar": {
             "outlinewidth": 0,
             "ticks": ""
            },
            "colorscale": [
             [
              0,
              "#0d0887"
             ],
             [
              0.1111111111111111,
              "#46039f"
             ],
             [
              0.2222222222222222,
              "#7201a8"
             ],
             [
              0.3333333333333333,
              "#9c179e"
             ],
             [
              0.4444444444444444,
              "#bd3786"
             ],
             [
              0.5555555555555556,
              "#d8576b"
             ],
             [
              0.6666666666666666,
              "#ed7953"
             ],
             [
              0.7777777777777778,
              "#fb9f3a"
             ],
             [
              0.8888888888888888,
              "#fdca26"
             ],
             [
              1,
              "#f0f921"
             ]
            ],
            "type": "histogram2dcontour"
           }
          ],
          "mesh3d": [
           {
            "colorbar": {
             "outlinewidth": 0,
             "ticks": ""
            },
            "type": "mesh3d"
           }
          ],
          "parcoords": [
           {
            "line": {
             "colorbar": {
              "outlinewidth": 0,
              "ticks": ""
             }
            },
            "type": "parcoords"
           }
          ],
          "pie": [
           {
            "automargin": true,
            "type": "pie"
           }
          ],
          "scatter": [
           {
            "fillpattern": {
             "fillmode": "overlay",
             "size": 10,
             "solidity": 0.2
            },
            "type": "scatter"
           }
          ],
          "scatter3d": [
           {
            "line": {
             "colorbar": {
              "outlinewidth": 0,
              "ticks": ""
             }
            },
            "marker": {
             "colorbar": {
              "outlinewidth": 0,
              "ticks": ""
             }
            },
            "type": "scatter3d"
           }
          ],
          "scattercarpet": [
           {
            "marker": {
             "colorbar": {
              "outlinewidth": 0,
              "ticks": ""
             }
            },
            "type": "scattercarpet"
           }
          ],
          "scattergeo": [
           {
            "marker": {
             "colorbar": {
              "outlinewidth": 0,
              "ticks": ""
             }
            },
            "type": "scattergeo"
           }
          ],
          "scattergl": [
           {
            "marker": {
             "colorbar": {
              "outlinewidth": 0,
              "ticks": ""
             }
            },
            "type": "scattergl"
           }
          ],
          "scattermap": [
           {
            "marker": {
             "colorbar": {
              "outlinewidth": 0,
              "ticks": ""
             }
            },
            "type": "scattermap"
           }
          ],
          "scattermapbox": [
           {
            "marker": {
             "colorbar": {
              "outlinewidth": 0,
              "ticks": ""
             }
            },
            "type": "scattermapbox"
           }
          ],
          "scatterpolar": [
           {
            "marker": {
             "colorbar": {
              "outlinewidth": 0,
              "ticks": ""
             }
            },
            "type": "scatterpolar"
           }
          ],
          "scatterpolargl": [
           {
            "marker": {
             "colorbar": {
              "outlinewidth": 0,
              "ticks": ""
             }
            },
            "type": "scatterpolargl"
           }
          ],
          "scatterternary": [
           {
            "marker": {
             "colorbar": {
              "outlinewidth": 0,
              "ticks": ""
             }
            },
            "type": "scatterternary"
           }
          ],
          "surface": [
           {
            "colorbar": {
             "outlinewidth": 0,
             "ticks": ""
            },
            "colorscale": [
             [
              0,
              "#0d0887"
             ],
             [
              0.1111111111111111,
              "#46039f"
             ],
             [
              0.2222222222222222,
              "#7201a8"
             ],
             [
              0.3333333333333333,
              "#9c179e"
             ],
             [
              0.4444444444444444,
              "#bd3786"
             ],
             [
              0.5555555555555556,
              "#d8576b"
             ],
             [
              0.6666666666666666,
              "#ed7953"
             ],
             [
              0.7777777777777778,
              "#fb9f3a"
             ],
             [
              0.8888888888888888,
              "#fdca26"
             ],
             [
              1,
              "#f0f921"
             ]
            ],
            "type": "surface"
           }
          ],
          "table": [
           {
            "cells": {
             "fill": {
              "color": "#EBF0F8"
             },
             "line": {
              "color": "white"
             }
            },
            "header": {
             "fill": {
              "color": "#C8D4E3"
             },
             "line": {
              "color": "white"
             }
            },
            "type": "table"
           }
          ]
         },
         "layout": {
          "annotationdefaults": {
           "arrowcolor": "#2a3f5f",
           "arrowhead": 0,
           "arrowwidth": 1
          },
          "autotypenumbers": "strict",
          "coloraxis": {
           "colorbar": {
            "outlinewidth": 0,
            "ticks": ""
           }
          },
          "colorscale": {
           "diverging": [
            [
             0,
             "#8e0152"
            ],
            [
             0.1,
             "#c51b7d"
            ],
            [
             0.2,
             "#de77ae"
            ],
            [
             0.3,
             "#f1b6da"
            ],
            [
             0.4,
             "#fde0ef"
            ],
            [
             0.5,
             "#f7f7f7"
            ],
            [
             0.6,
             "#e6f5d0"
            ],
            [
             0.7,
             "#b8e186"
            ],
            [
             0.8,
             "#7fbc41"
            ],
            [
             0.9,
             "#4d9221"
            ],
            [
             1,
             "#276419"
            ]
           ],
           "sequential": [
            [
             0,
             "#0d0887"
            ],
            [
             0.1111111111111111,
             "#46039f"
            ],
            [
             0.2222222222222222,
             "#7201a8"
            ],
            [
             0.3333333333333333,
             "#9c179e"
            ],
            [
             0.4444444444444444,
             "#bd3786"
            ],
            [
             0.5555555555555556,
             "#d8576b"
            ],
            [
             0.6666666666666666,
             "#ed7953"
            ],
            [
             0.7777777777777778,
             "#fb9f3a"
            ],
            [
             0.8888888888888888,
             "#fdca26"
            ],
            [
             1,
             "#f0f921"
            ]
           ],
           "sequentialminus": [
            [
             0,
             "#0d0887"
            ],
            [
             0.1111111111111111,
             "#46039f"
            ],
            [
             0.2222222222222222,
             "#7201a8"
            ],
            [
             0.3333333333333333,
             "#9c179e"
            ],
            [
             0.4444444444444444,
             "#bd3786"
            ],
            [
             0.5555555555555556,
             "#d8576b"
            ],
            [
             0.6666666666666666,
             "#ed7953"
            ],
            [
             0.7777777777777778,
             "#fb9f3a"
            ],
            [
             0.8888888888888888,
             "#fdca26"
            ],
            [
             1,
             "#f0f921"
            ]
           ]
          },
          "colorway": [
           "#636efa",
           "#EF553B",
           "#00cc96",
           "#ab63fa",
           "#FFA15A",
           "#19d3f3",
           "#FF6692",
           "#B6E880",
           "#FF97FF",
           "#FECB52"
          ],
          "font": {
           "color": "#2a3f5f"
          },
          "geo": {
           "bgcolor": "white",
           "lakecolor": "white",
           "landcolor": "#E5ECF6",
           "showlakes": true,
           "showland": true,
           "subunitcolor": "white"
          },
          "hoverlabel": {
           "align": "left"
          },
          "hovermode": "closest",
          "mapbox": {
           "style": "light"
          },
          "paper_bgcolor": "white",
          "plot_bgcolor": "#E5ECF6",
          "polar": {
           "angularaxis": {
            "gridcolor": "white",
            "linecolor": "white",
            "ticks": ""
           },
           "bgcolor": "#E5ECF6",
           "radialaxis": {
            "gridcolor": "white",
            "linecolor": "white",
            "ticks": ""
           }
          },
          "scene": {
           "xaxis": {
            "backgroundcolor": "#E5ECF6",
            "gridcolor": "white",
            "gridwidth": 2,
            "linecolor": "white",
            "showbackground": true,
            "ticks": "",
            "zerolinecolor": "white"
           },
           "yaxis": {
            "backgroundcolor": "#E5ECF6",
            "gridcolor": "white",
            "gridwidth": 2,
            "linecolor": "white",
            "showbackground": true,
            "ticks": "",
            "zerolinecolor": "white"
           },
           "zaxis": {
            "backgroundcolor": "#E5ECF6",
            "gridcolor": "white",
            "gridwidth": 2,
            "linecolor": "white",
            "showbackground": true,
            "ticks": "",
            "zerolinecolor": "white"
           }
          },
          "shapedefaults": {
           "line": {
            "color": "#2a3f5f"
           }
          },
          "ternary": {
           "aaxis": {
            "gridcolor": "white",
            "linecolor": "white",
            "ticks": ""
           },
           "baxis": {
            "gridcolor": "white",
            "linecolor": "white",
            "ticks": ""
           },
           "bgcolor": "#E5ECF6",
           "caxis": {
            "gridcolor": "white",
            "linecolor": "white",
            "ticks": ""
           }
          },
          "title": {
           "x": 0.05
          },
          "xaxis": {
           "automargin": true,
           "gridcolor": "white",
           "linecolor": "white",
           "ticks": "",
           "title": {
            "standoff": 15
           },
           "zerolinecolor": "white",
           "zerolinewidth": 2
          },
          "yaxis": {
           "automargin": true,
           "gridcolor": "white",
           "linecolor": "white",
           "ticks": "",
           "title": {
            "standoff": 15
           },
           "zerolinecolor": "white",
           "zerolinewidth": 2
          }
         }
        }
       }
      }
     },
     "metadata": {},
     "output_type": "display_data"
    }
   ],
   "source": [
    "node = root.children[3].children[0].children[2]\n",
    "\n",
    "print(format_node(node))\n",
    "\n",
    "display_tree(node)"
   ]
  },
  {
   "cell_type": "code",
   "execution_count": 70,
   "id": "25606616",
   "metadata": {},
   "outputs": [],
   "source": [
    "from langchain_ollama import OllamaEmbeddings\n",
    "\n",
    "embeddings = OllamaEmbeddings(\n",
    "    model=\"mxbai-embed-large\",\n",
    ")\n",
    "\n",
    "from langchain_core.vectorstores import InMemoryVectorStore\n",
    "\n",
    "def create_vector_store(texts: list[str]) -> InMemoryVectorStore:\n",
    "    vectorstore = InMemoryVectorStore.from_texts(\n",
    "        texts,\n",
    "        embedding=embeddings,\n",
    "    )\n",
    "    \n",
    "    return vectorstore"
   ]
  },
  {
   "cell_type": "code",
   "execution_count": 71,
   "id": "1951cfc6",
   "metadata": {},
   "outputs": [],
   "source": [
    "cats = [n.condition for n in node.children]\n",
    "\n",
    "vectorstore = create_vector_store(cats)"
   ]
  },
  {
   "cell_type": "code",
   "execution_count": 72,
   "id": "341cfd0c",
   "metadata": {},
   "outputs": [],
   "source": [
    "import numpy as np\n",
    "from sklearn.cluster import KMeans\n",
    "from sklearn.preprocessing import normalize\n",
    "\n",
    "def sample_from_embeddings(vectorstore: InMemoryVectorStore, samples: int = 10) -> list[list[float]]:\n",
    "    store = vectorstore.store\n",
    "    rev_map = {}\n",
    "    embeddings = []\n",
    "    for idx, (k, v) in enumerate(store.items()):\n",
    "        vector = v['vector']\n",
    "        rev_map[idx] = v['text']\n",
    "        embeddings.append(vector)\n",
    "        \n",
    "    normalized_embeddings = normalize(embeddings, norm='l2', axis=1)\n",
    "\n",
    "    k = samples\n",
    "\n",
    "    kmeans = KMeans(n_clusters=k, random_state=42, n_init='auto')\n",
    "    kmeans.fit(normalized_embeddings)\n",
    "\n",
    "    from sklearn.metrics.pairwise import cosine_similarity\n",
    "\n",
    "    representative_indices = []\n",
    "    for center in kmeans.cluster_centers_:\n",
    "        sims = cosine_similarity([center], normalized_embeddings)[0]\n",
    "        idx = np.argmax(sims)\n",
    "        representative_indices.append(idx)\n",
    "\n",
    "    selected_keys = [rev_map[i] for i in representative_indices]\n",
    "    return selected_keys"
   ]
  },
  {
   "cell_type": "code",
   "execution_count": null,
   "id": "d349d186",
   "metadata": {},
   "outputs": [
    {
     "name": "stdout",
     "output_type": "stream",
     "text": [
      "25\n"
     ]
    },
    {
     "data": {
      "text/plain": [
       "['Polyacrylate ACM',\n",
       " 'Synthetic polyisoprene IR',\n",
       " 'Ethylene propylene EP',\n",
       " 'Acrylonitrile butadiene NBR',\n",
       " 'Fluorosilicone FVMQ',\n",
       " 'Polyether urethane EU',\n",
       " 'Chloropolyethylene CM',\n",
       " 'Copolyester',\n",
       " 'Epichlorohydrin ECO',\n",
       " 'Polyolenfinic']"
      ]
     },
     "execution_count": 74,
     "metadata": {},
     "output_type": "execute_result"
    }
   ],
   "source": [
    "print(len(vectorstore.store))\n",
    "\n"
   ]
  },
  {
   "cell_type": "code",
   "execution_count": 119,
   "id": "1a0276c2",
   "metadata": {},
   "outputs": [],
   "source": [
    "from langchain_core.prompts import ChatPromptTemplate\n",
    "from langchain_ollama import ChatOllama\n",
    "from langchain_core.tools import tool\n",
    "from langchain_core.messages import HumanMessage\n",
    "from pydantic import BaseModel, Field\n",
    "\n",
    "class CategoryAnswer(BaseModel):\n",
    "    category1: str = Field(description=\"The first created category that will divide the subset of items in the dataset into the next two subsets.\")\n",
    "    category2: str = Field(description=\"The second created category that is the negative of the first one.\")\n",
    "\n",
    "def ask_model_category(node: Node):\n",
    "    selected_cats = sample_from_embeddings(vectorstore=vectorstore, samples=min(10, len(node.children)))\n",
    "        \n",
    "    template = \"\"\"\n",
    "    Your job is to create two new categories that will serve as nodes in a tree to help people find items.\n",
    "    \n",
    "    The parent categories for this subset of the dataset are:\n",
    "    {parent_conditions}\n",
    "    \n",
    "    The following are a subset of categorizations that exist below this level and need to be divided into two smaller groups:\n",
    "    {conditions}\n",
    "\n",
    "    The items in the full dataset cover the scope of: {scope}\n",
    "\n",
    "    Choose a pair of categories that divide the ones lower than this level into two roughly equal groups.\n",
    "    For any item in the scope, the categories you provide should not be ambiguous or overlap.\n",
    "    The categories you provide should be specific to items that already fit inside the parent categories and divide those items further according to the instructions above.\n",
    "    ALL items that satisfy the parent categories need to satisfy at least one of the categories you provide.\n",
    "    \n",
    "    Simply negating the first category is one valid answer: ex: Plants and Not Plants\n",
    "    \"\"\"\n",
    "\n",
    "    prompt = ChatPromptTemplate.from_template(template)\n",
    "    prompt = prompt.format(conditions=\"\\n* \".join(selected_cats), parent_conditions=\"\\n* \".join(get_node_conditions(node)), scope=\"Products across all industries\")\n",
    "\n",
    "    llm = ChatOllama(\n",
    "        model=\"llama3.1\",\n",
    "        temperature=0,\n",
    "    )\n",
    "    \n",
    "    llm = llm.with_structured_output(CategoryAnswer)\n",
    "\n",
    "    return llm.invoke([HumanMessage(prompt)])"
   ]
  },
  {
   "cell_type": "code",
   "execution_count": 120,
   "id": "a696d4c1",
   "metadata": {},
   "outputs": [
    {
     "data": {
      "text/plain": [
       "CategoryAnswer(category1='Thermoplastic Elastomers', category2='Thermosetting Elastomers')"
      ]
     },
     "execution_count": 120,
     "metadata": {},
     "output_type": "execute_result"
    }
   ],
   "source": [
    "result = ask_model_category(node=node)\n",
    "result"
   ]
  },
  {
   "cell_type": "code",
   "execution_count": null,
   "id": "3b731a25",
   "metadata": {},
   "outputs": [],
   "source": []
  }
 ],
 "metadata": {
  "kernelspec": {
   "display_name": ".venv",
   "language": "python",
   "name": "python3"
  },
  "language_info": {
   "codemirror_mode": {
    "name": "ipython",
    "version": 3
   },
   "file_extension": ".py",
   "mimetype": "text/x-python",
   "name": "python",
   "nbconvert_exporter": "python",
   "pygments_lexer": "ipython3",
   "version": "3.12.0"
  }
 },
 "nbformat": 4,
 "nbformat_minor": 5
}
