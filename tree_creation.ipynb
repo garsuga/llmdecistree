{
 "cells": [
  {
   "cell_type": "markdown",
   "id": "d8957119",
   "metadata": {},
   "source": [
    "# Tree Creation From Classification Labels"
   ]
  },
  {
   "cell_type": "markdown",
   "id": "f4eda0a7",
   "metadata": {},
   "source": [
    "## Method\n",
    "\n",
    "Trees are created from the classification labels only. The data to be classified is not used and therefore labeled datasets are not required for this step. Labeled datasets will be useful for evaluation instead.\n",
    "\n",
    "'Categories', 'Conditions', and 'Labels' are used interchangeably here. Categories are created from the labels' texts and new categories will be made in the same style as the original dataset.\n",
    "\n",
    "### Algorithms\n",
    "\n",
    "#### Tree Formation\n",
    "\n",
    "* Create the tree using any heirarchical labels in the output labels if they exist. Otherwise create a tree with a single root node and one leaf for every classification label.\n",
    "* Walk down the tree starting at the root and stop when the current node has more children than desired. Then:\n",
    "    * Place the category texts of the child nodes in a vector store and generate embeddings for each of them.\n",
    "    * Sample from the vector store to choose relatively spread out categories. This is done by performing KMeans clustering and choosing cluster representatives.\n",
    "    * Provide the LLM with representative categories and ask it to create new categories that divide those further.\n",
    "    * Classify the old child categories into the newly created categories.\n",
    "    * Place old child categories that cannot be classified into the new categories as children of the current node.\n",
    "    * Repeat this process until less than or equal to the desired number of categories is reached.\n",
    "\n",
    "#### Classification\n",
    "\n",
    "* Start at the root node and work down the tree.\n",
    "* Prompt the LLM to choose the correct next category from among the children of the current node if a valid one exists.\n",
    "* If a the LLM responds saying that node of the child categories are suitable for the item to be classified, mask/hide the current node and treat the parent of the current node as the next node.\n",
    "* If the failure above occurs while the current node is the root, the item will be skipped and receive no classification."
   ]
  },
  {
   "cell_type": "markdown",
   "id": "c7ab1479",
   "metadata": {},
   "source": [
    "## Code"
   ]
  },
  {
   "cell_type": "markdown",
   "id": "fd1ccf1c",
   "metadata": {},
   "source": [
    "### Reading The Dataset\n",
    "\n",
    "The dataset used here is [UNSPSC Codes](https://data.ok.gov/dataset/unspsc-codes)\n",
    "\n",
    "Detect the correct charset to use when reading the categories dataset. Then read the dataset as a DataFrame."
   ]
  },
  {
   "cell_type": "code",
   "execution_count": 1,
   "id": "fd5d459f",
   "metadata": {},
   "outputs": [
    {
     "name": "stdout",
     "output_type": "stream",
     "text": [
      "{'encoding': 'Windows-1252', 'confidence': 0.73, 'language': ''}\n"
     ]
    }
   ],
   "source": [
    "import chardet\n",
    "\n",
    "with open(\"data-unspsc-codes.csv\", 'rb') as f:\n",
    "    result = chardet.detect(f.read())\n",
    "    print(result)"
   ]
  },
  {
   "cell_type": "code",
   "execution_count": 2,
   "id": "273e3806",
   "metadata": {},
   "outputs": [
    {
     "data": {
      "text/html": [
       "<div>\n",
       "<style scoped>\n",
       "    .dataframe tbody tr th:only-of-type {\n",
       "        vertical-align: middle;\n",
       "    }\n",
       "\n",
       "    .dataframe tbody tr th {\n",
       "        vertical-align: top;\n",
       "    }\n",
       "\n",
       "    .dataframe thead th {\n",
       "        text-align: right;\n",
       "    }\n",
       "</style>\n",
       "<table border=\"1\" class=\"dataframe\">\n",
       "  <thead>\n",
       "    <tr style=\"text-align: right;\">\n",
       "      <th></th>\n",
       "      <th>Segment</th>\n",
       "      <th>Segment Name</th>\n",
       "      <th>Family</th>\n",
       "      <th>Family Name</th>\n",
       "      <th>Class</th>\n",
       "      <th>Class Name</th>\n",
       "      <th>Commodity</th>\n",
       "      <th>Commodity Name</th>\n",
       "    </tr>\n",
       "  </thead>\n",
       "  <tbody>\n",
       "    <tr>\n",
       "      <th>0</th>\n",
       "      <td>10000000</td>\n",
       "      <td>Live Plant and Animal Material and Accessories...</td>\n",
       "      <td>10100000</td>\n",
       "      <td>Live animals</td>\n",
       "      <td>10101500</td>\n",
       "      <td>Livestock</td>\n",
       "      <td>10101501</td>\n",
       "      <td>Cats</td>\n",
       "    </tr>\n",
       "    <tr>\n",
       "      <th>1</th>\n",
       "      <td>10000000</td>\n",
       "      <td>Live Plant and Animal Material and Accessories...</td>\n",
       "      <td>10100000</td>\n",
       "      <td>Live animals</td>\n",
       "      <td>10101500</td>\n",
       "      <td>Livestock</td>\n",
       "      <td>10101502</td>\n",
       "      <td>Dogs</td>\n",
       "    </tr>\n",
       "    <tr>\n",
       "      <th>2</th>\n",
       "      <td>10000000</td>\n",
       "      <td>Live Plant and Animal Material and Accessories...</td>\n",
       "      <td>10100000</td>\n",
       "      <td>Live animals</td>\n",
       "      <td>10101500</td>\n",
       "      <td>Livestock</td>\n",
       "      <td>10101504</td>\n",
       "      <td>Mink</td>\n",
       "    </tr>\n",
       "    <tr>\n",
       "      <th>3</th>\n",
       "      <td>10000000</td>\n",
       "      <td>Live Plant and Animal Material and Accessories...</td>\n",
       "      <td>10100000</td>\n",
       "      <td>Live animals</td>\n",
       "      <td>10101500</td>\n",
       "      <td>Livestock</td>\n",
       "      <td>10101505</td>\n",
       "      <td>Rats</td>\n",
       "    </tr>\n",
       "    <tr>\n",
       "      <th>4</th>\n",
       "      <td>10000000</td>\n",
       "      <td>Live Plant and Animal Material and Accessories...</td>\n",
       "      <td>10100000</td>\n",
       "      <td>Live animals</td>\n",
       "      <td>10101500</td>\n",
       "      <td>Livestock</td>\n",
       "      <td>10101506</td>\n",
       "      <td>Horses</td>\n",
       "    </tr>\n",
       "  </tbody>\n",
       "</table>\n",
       "</div>"
      ],
      "text/plain": [
       "    Segment                                       Segment Name    Family  \\\n",
       "0  10000000  Live Plant and Animal Material and Accessories...  10100000   \n",
       "1  10000000  Live Plant and Animal Material and Accessories...  10100000   \n",
       "2  10000000  Live Plant and Animal Material and Accessories...  10100000   \n",
       "3  10000000  Live Plant and Animal Material and Accessories...  10100000   \n",
       "4  10000000  Live Plant and Animal Material and Accessories...  10100000   \n",
       "\n",
       "    Family Name     Class Class Name  Commodity Commodity Name  \n",
       "0  Live animals  10101500  Livestock   10101501           Cats  \n",
       "1  Live animals  10101500  Livestock   10101502           Dogs  \n",
       "2  Live animals  10101500  Livestock   10101504           Mink  \n",
       "3  Live animals  10101500  Livestock   10101505           Rats  \n",
       "4  Live animals  10101500  Livestock   10101506         Horses  "
      ]
     },
     "execution_count": 2,
     "metadata": {},
     "output_type": "execute_result"
    }
   ],
   "source": [
    "import pandas as pd\n",
    "\n",
    "df = pd.read_csv(\"data-unspsc-codes.csv\", encoding=result['encoding'])\n",
    "\n",
    "df.head()"
   ]
  },
  {
   "cell_type": "markdown",
   "id": "45638dff",
   "metadata": {},
   "source": [
    "### Dataset Exploration And Evaluation\n",
    "\n",
    "Test the existing heirarchical structure to determine if it can be used immediately for classification."
   ]
  },
  {
   "cell_type": "code",
   "execution_count": 3,
   "id": "81a30e23",
   "metadata": {},
   "outputs": [],
   "source": [
    "cat_cols = [\"Segment Name\", \"Family Name\", \"Class Name\", \"Commodity Name\"]"
   ]
  },
  {
   "cell_type": "code",
   "execution_count": 4,
   "id": "b83365d6",
   "metadata": {},
   "outputs": [
    {
     "name": "stdout",
     "output_type": "stream",
     "text": [
      "col: Segment Name\n",
      "unqiue: 57\n",
      "total: 71502\n",
      "\n",
      "next level:\n",
      "max:43\n",
      "avg:8.157894736842104\n",
      "\n",
      "Segment Name does NOT have ambiguous branches\n",
      "\n",
      "col: Family Name\n",
      "unqiue: 465\n",
      "total: 71502\n",
      "\n",
      "next level:\n",
      "max:67\n",
      "avg:11.425806451612903\n",
      "\n",
      "Family Name does NOT have ambiguous branches\n",
      "\n",
      "col: Class Name\n",
      "unqiue: 5313\n",
      "total: 71502\n",
      "\n",
      "next level:\n",
      "max:99\n",
      "avg:13.45793337097685\n",
      "\n",
      "Class Name does NOT have ambiguous branches\n",
      "\n",
      "col: Commodity Name\n",
      "unqiue: 71502\n",
      "total: 71502\n",
      "\n"
     ]
    }
   ],
   "source": [
    "from itertools import combinations\n",
    "\n",
    "for i, col in enumerate(cat_cols):\n",
    "    unique = pd.unique(df[col])\n",
    "    n_unqiue = len(unique)\n",
    "        \n",
    "    total = len(df[col])\n",
    "    print(f\"col: {col}\\nunqiue: {n_unqiue}\\ntotal: {total}\\n\")\n",
    "    \n",
    "    if i < len(cat_cols) - 1:\n",
    "        next_branch_counts = []\n",
    "        next_branches: dict[str, set] = {}\n",
    "        \n",
    "        for uc in unique:\n",
    "            df_next = df[df[col] == uc]\n",
    "            next_branch_counts.append(len(pd.unique(df_next[cat_cols[i+1]])))\n",
    "            next_branches[uc] = set(pd.unique(df_next[cat_cols[i+1]]))\n",
    "    \n",
    "        print(f\"next level:\\nmax:{max(next_branch_counts)}\\navg:{sum(next_branch_counts)/len(next_branch_counts)}\\n\")\n",
    "        \n",
    "        ambiguous = False\n",
    "        for a, b in combinations(next_branches.keys(), 2):\n",
    "            intersection = next_branches[a] & next_branches[b]\n",
    "            if len(intersection) > 0:\n",
    "                ambiguous = True\n",
    "                print(f\"The following nodes appear in both {a} and {b} for {cat_cols[i+1]}: {intersection}\")\n",
    "            \n",
    "        if ambiguous:    \n",
    "            print(f\"{col} has ambiguous branches\\n\")\n",
    "        else:\n",
    "            print(f\"{col} does NOT have ambiguous branches\\n\")\n",
    "            "
   ]
  },
  {
   "cell_type": "markdown",
   "id": "9150a575",
   "metadata": {},
   "source": [
    "From the results above, it can be seen that with the 4 existing heirarchical levels the number of children that would be created for each node would be up to ~100. This is more than our objective of 25 children max.\n",
    "\n",
    "We will need to divide up these children to make classification using an LLM more reliable."
   ]
  },
  {
   "cell_type": "code",
   "execution_count": null,
   "id": "c0254eb6",
   "metadata": {},
   "outputs": [],
   "source": [
    "from model import create_tree_from_breadcrumbs, check_tree, Node, display_tree, create_vector_store, ask_model_category, format_node, optimize_tree, ProgressBars, display_lazy_tree, clean_tree"
   ]
  },
  {
   "cell_type": "markdown",
   "id": "a5896f0d",
   "metadata": {},
   "source": [
    "Create the tree using the breadcrumbs present in the dataset so we can retain the existing heirarchy as a head-start."
   ]
  },
  {
   "cell_type": "code",
   "execution_count": 6,
   "id": "38f7718e",
   "metadata": {},
   "outputs": [],
   "source": [
    "root = create_tree_from_breadcrumbs(df, breadcrumb_cols=[\"Segment Name\", \"Family Name\", \"Class Name\", \"Commodity Name\"], extra_cols_map={\"Segment Name\": [\"Segment\"], \"Family Name\": [\"Family\"], \"Class Name\": [\"Class\"], \"Commodity Name\": [\"Commodity\"]})"
   ]
  },
  {
   "cell_type": "markdown",
   "id": "b934de3c",
   "metadata": {},
   "source": [
    "Validate the new tree representation by performing a similar check to above and comparing. Things look consistent here."
   ]
  },
  {
   "cell_type": "code",
   "execution_count": 7,
   "id": "35581380",
   "metadata": {},
   "outputs": [
    {
     "name": "stdout",
     "output_type": "stream",
     "text": [
      "sub_branches: 465, avg: 8.157894736842104, max: 43\n",
      "\n",
      "leaves at this level: 0\n",
      "sub_branches: 5313, avg: 11.425806451612903, max: 67\n",
      "\n",
      "leaves at this level: 0\n",
      "sub_branches: 71502, avg: 13.45793337097685, max: 99\n",
      "\n",
      "leaves at this level: 0\n",
      "sub_branches: 0, avg: 0.0, max: 0\n",
      "\n",
      "leaves at this level: 71502\n",
      "total leaves: 71502\n"
     ]
    }
   ],
   "source": [
    "check_tree(root)"
   ]
  },
  {
   "cell_type": "markdown",
   "id": "7ff232cf",
   "metadata": {},
   "source": [
    "Explore the new tree visually if desired. High numbers of child nodes can be seen on many of the nodes."
   ]
  },
  {
   "cell_type": "code",
   "execution_count": 8,
   "id": "2035b281",
   "metadata": {},
   "outputs": [
    {
     "name": "stdout",
     "output_type": "stream",
     "text": [
      "\n"
     ]
    },
    {
     "data": {
      "application/vnd.jupyter.widget-view+json": {
       "model_id": "b0486e2014cf486ea81f287c1c5b0a12",
       "version_major": 2,
       "version_minor": 0
      },
      "text/plain": [
       "VBox(children=(FigureWidget({\n",
       "    'data': [{'branchvalues': 'total',\n",
       "              'ids': [bcc267e5-021c-478a-…"
      ]
     },
     "metadata": {},
     "output_type": "display_data"
    }
   ],
   "source": [
    "node = root\n",
    "\n",
    "print(format_node(node))\n",
    "\n",
    "display_lazy_tree(node, max_initial_depth=2)"
   ]
  },
  {
   "cell_type": "markdown",
   "id": "7592474b",
   "metadata": {},
   "source": [
    "Create Ollama model instances to process LLM requests locally (Change this to your desired models from LangChain)"
   ]
  },
  {
   "cell_type": "code",
   "execution_count": 9,
   "id": "1951cfc6",
   "metadata": {},
   "outputs": [],
   "source": [
    "cats = [n.condition for n in node.children]\n",
    "from langchain_ollama import OllamaEmbeddings\n",
    "\n",
    "embeddings = OllamaEmbeddings(\n",
    "    model=\"mxbai-embed-large\",\n",
    ")\n",
    "\n",
    "vectorstore = create_vector_store(texts=cats, embeddings=embeddings)\n",
    "\n",
    "from langchain_ollama import ChatOllama\n",
    "create_llm = lambda: ChatOllama(\n",
    "    model=\"qwen2.5:14b\",\n",
    "    # temperature=0,\n",
    ")"
   ]
  },
  {
   "cell_type": "markdown",
   "id": "e3f9012a",
   "metadata": {},
   "source": [
    "Test out a single iteration of creating new categories at the root level"
   ]
  },
  {
   "cell_type": "code",
   "execution_count": 10,
   "id": "a696d4c1",
   "metadata": {},
   "outputs": [
    {
     "data": {
      "text/plain": [
       "CategoryAnswer(categories=['Agriculture and Forestry', 'Construction and Infrastructure Materials', 'Education and Professional Training', 'Healthcare and Medical Equipment', 'Industrial Machinery and Supplies', 'Consumer Goods and Services', 'Natural Resources Extraction and Services', 'Chemical Products and Biochemicals', 'Financial and Legal Services', 'Environmental and Sustainability Solutions', 'Electrical Engineering and Lighting Technology', 'Media and Communication Equipment'])"
      ]
     },
     "execution_count": 10,
     "metadata": {},
     "output_type": "execute_result"
    }
   ],
   "source": [
    "cats, tokens = ask_model_category(node=root, embeddings=embeddings, create_llm=create_llm)\n",
    "cats"
   ]
  },
  {
   "cell_type": "markdown",
   "id": "2044f58a",
   "metadata": {},
   "source": [
    "Token counts are also captured by any of the functions that interact with LLM calls"
   ]
  },
  {
   "cell_type": "code",
   "execution_count": 11,
   "id": "4d2fd5df",
   "metadata": {},
   "outputs": [
    {
     "data": {
      "text/plain": [
       "TokenCounts(prompt=401, completion=101, total=502)"
      ]
     },
     "execution_count": 11,
     "metadata": {},
     "output_type": "execute_result"
    }
   ],
   "source": [
    "tokens"
   ]
  },
  {
   "cell_type": "markdown",
   "id": "11157a0d",
   "metadata": {},
   "source": [
    "The original dataset includes more categories than needed. We will be classifying consumer products from Amazon later so let's remove the extra segments and families that are irrelevant to save time optimizing the tree.\n",
    "\n",
    "We will remove all service segments and 'Food Beverage and Tabacco Products' which is very large and complex and not particularly relevant. We will also remove the 'live' and 'fresh' families.\n",
    "\n",
    "The following segments will be removed:\n",
    "* Farming and Fishing and Forestry and Wildlife Contracting Services\n",
    "* Mining and oil and gas services\n",
    "* Building and Facility Construction and Maintenance Services\n",
    "* Industrial Production and Manufacturing Services\n",
    "* Industrial Cleaning Services\n",
    "* Environmental Services\n",
    "* Transportation and Storage and Mail Services\n",
    "* Management and Business Professionals and Administrative Services\n",
    "* Engineering and Research and Technology Based Services\n",
    "* Editorial and Design and Graphic and Fine Art Services\n",
    "* Public Utilities and Public Sector Related Services\n",
    "* Financial and Insurance Services\n",
    "* Healthcare Services\n",
    "* Education and Training Services\n",
    "* Travel and Food and Lodging and Entertainment Services\n",
    "* Personal and Domestic Services\n",
    "* National Defense and Public Order and Security and Safety Services\n",
    "* Politics and Civic Affairs Services\n",
    "* Food Beverage and Tobacco Products\n",
    "\n",
    "The following families will be removed:\n",
    "* Live animals\n",
    "* Live rose bushes\n",
    "* Live plants of high species or variety count flowers\n",
    "* Live plants of low species or variety count flowers\n",
    "* Live chrysanthemums\n",
    "* Live carnations\n",
    "* Live orchids\n",
    "* Fresh cut rose\n",
    "* Fresh cut blooms of high species or variety count flowers\n",
    "* Fresh cut blooms of low species or variety count flowers\n",
    "* Fresh cut chrysanthemums\n",
    "* Fresh cut floral bouquets\n",
    "* Fresh cut carnations\n",
    "* Fresh cut orchids\n",
    "* Fresh cut greenery"
   ]
  },
  {
   "cell_type": "code",
   "execution_count": 12,
   "id": "10570375",
   "metadata": {},
   "outputs": [
    {
     "data": {
      "text/plain": [
       "31576"
      ]
     },
     "execution_count": 12,
     "metadata": {},
     "output_type": "execute_result"
    }
   ],
   "source": [
    "segments_to_remove = [\n",
    "    s for s in pd.unique(df[\"Segment Name\"]) if \"services\" in s.lower()\n",
    "]\n",
    "\n",
    "segments_to_remove.append(\"Food Beverage and Tobacco Products\")\n",
    "\n",
    "families_to_remove = [\n",
    "    f for f in pd.unique(df[df[\"Segment Name\"] == \"Live Plant and Animal Material and Accessories and Supplies\"][\"Family Name\"]) if \"live\" in f.lower() or \"fresh\" in f.lower()\n",
    "]\n",
    "\n",
    "df_filt = df\n",
    "\n",
    "for s in segments_to_remove:\n",
    "    df_filt = df_filt[df_filt[\"Segment Name\"] != s]\n",
    "\n",
    "for f in families_to_remove:\n",
    "    df_filt = df_filt[df_filt[\"Family Name\"] != f]\n",
    "    \n",
    "len(df_filt)"
   ]
  },
  {
   "cell_type": "markdown",
   "id": "50d7490f",
   "metadata": {},
   "source": [
    "Create a fresh tree like shown above and run the optimizer. This will create new categories as necessary and ensure that a max of 25 children will exist at any node. (This takes a very long time)"
   ]
  },
  {
   "cell_type": "code",
   "execution_count": null,
   "id": "b52e65b7",
   "metadata": {},
   "outputs": [],
   "source": [
    "root = create_tree_from_breadcrumbs(df_filt, breadcrumb_cols=[\"Segment Name\", \"Family Name\", \"Class Name\", \"Commodity Name\"], extra_cols_map={\"Segment Name\": [\"Segment\"], \"Family Name\": [\"Family\"], \"Class Name\": [\"Class\"], \"Commodity Name\": [\"Commodity\"]})\n",
    "progress_bars = ProgressBars(n_leaves=len(df_filt))\n",
    "display(progress_bars.ui)\n",
    "optimize_tree(root=root, max_children=25, progress_bars=progress_bars, embeddings=embeddings, create_llm=create_llm)"
   ]
  },
  {
   "cell_type": "code",
   "execution_count": 42,
   "id": "dad38b7f",
   "metadata": {},
   "outputs": [],
   "source": [
    "clean_tree(root=root)"
   ]
  },
  {
   "cell_type": "markdown",
   "id": "ef4e1891",
   "metadata": {},
   "source": [
    "Save the tree for later."
   ]
  },
  {
   "cell_type": "code",
   "execution_count": 84,
   "id": "bb7210d6",
   "metadata": {},
   "outputs": [],
   "source": [
    "import pickle\n",
    "\n",
    "with open(\"tree.pkl\", \"wb\") as f:\n",
    "    pickle.dump(root, f)"
   ]
  },
  {
   "cell_type": "markdown",
   "id": "34550dd1",
   "metadata": {},
   "source": [
    "Test the saved tree by loading it again. (Using a copy of the file)"
   ]
  },
  {
   "cell_type": "code",
   "execution_count": 40,
   "id": "b83909e2",
   "metadata": {},
   "outputs": [],
   "source": [
    "import pickle\n",
    "\n",
    "with open(\"tree_raw.pkl\", \"rb\") as f:\n",
    "    root = pickle.load(f)"
   ]
  },
  {
   "cell_type": "markdown",
   "id": "af7b1fec",
   "metadata": {},
   "source": [
    "Explore the final tree."
   ]
  },
  {
   "cell_type": "code",
   "execution_count": 43,
   "id": "f036bb82",
   "metadata": {},
   "outputs": [
    {
     "name": "stdout",
     "output_type": "stream",
     "text": [
      "sub_branches: 82, avg: 4.555555555555555, max: 12\n",
      "\n",
      "leaves at this level: 0\n",
      "sub_branches: 482, avg: 5.878048780487805, max: 21\n",
      "\n",
      "leaves at this level: 1\n",
      "sub_branches: 3422, avg: 7.0995850622406635, max: 25\n",
      "\n",
      "leaves at this level: 18\n",
      "sub_branches: 12084, avg: 3.5312682641729984, max: 25\n",
      "\n",
      "leaves at this level: 2033\n",
      "sub_branches: 11665, avg: 0.9653260509764978, max: 25\n",
      "\n",
      "leaves at this level: 10713\n",
      "sub_branches: 5059, avg: 0.433690527218174, max: 25\n",
      "\n",
      "leaves at this level: 11038\n",
      "sub_branches: 1925, avg: 0.38050998220992294, max: 25\n",
      "\n",
      "leaves at this level: 4792\n",
      "sub_branches: 796, avg: 0.4135064935064935, max: 24\n",
      "\n",
      "leaves at this level: 1820\n",
      "sub_branches: 312, avg: 0.39195979899497485, max: 25\n",
      "\n",
      "leaves at this level: 768\n",
      "sub_branches: 89, avg: 0.28525641025641024, max: 21\n",
      "\n",
      "leaves at this level: 304\n",
      "sub_branches: 0, avg: 0.0, max: 0\n",
      "\n",
      "leaves at this level: 89\n",
      "total leaves: 31576\n"
     ]
    }
   ],
   "source": [
    "check_tree(root)"
   ]
  },
  {
   "cell_type": "code",
   "execution_count": 16,
   "id": "99209194",
   "metadata": {},
   "outputs": [
    {
     "data": {
      "text/plain": [
       "'Infrastructure Components'"
      ]
     },
     "execution_count": 16,
     "metadata": {},
     "output_type": "execute_result"
    }
   ],
   "source": [
    "root.children[0].condition"
   ]
  },
  {
   "cell_type": "code",
   "execution_count": 44,
   "id": "7ac84278",
   "metadata": {},
   "outputs": [
    {
     "data": {
      "application/vnd.jupyter.widget-view+json": {
       "model_id": "020f8548dce6420aaaffbbe0c1d518f0",
       "version_major": 2,
       "version_minor": 0
      },
      "text/plain": [
       "VBox(children=(FigureWidget({\n",
       "    'data': [{'branchvalues': 'total',\n",
       "              'ids': [91411438-db5c-4de7-…"
      ]
     },
     "metadata": {},
     "output_type": "display_data"
    }
   ],
   "source": [
    "display_lazy_tree(root, max_initial_depth=3)"
   ]
  },
  {
   "cell_type": "code",
   "execution_count": null,
   "id": "47d14554",
   "metadata": {},
   "outputs": [],
   "source": []
  }
 ],
 "metadata": {
  "kernelspec": {
   "display_name": ".venv",
   "language": "python",
   "name": "python3"
  },
  "language_info": {
   "codemirror_mode": {
    "name": "ipython",
    "version": 3
   },
   "file_extension": ".py",
   "mimetype": "text/x-python",
   "name": "python",
   "nbconvert_exporter": "python",
   "pygments_lexer": "ipython3",
   "version": "3.12.0"
  }
 },
 "nbformat": 4,
 "nbformat_minor": 5
}
