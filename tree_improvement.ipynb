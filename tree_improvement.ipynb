{
 "cells": [
  {
   "cell_type": "code",
   "execution_count": 1,
   "id": "7745b600",
   "metadata": {},
   "outputs": [],
   "source": [
    "import pickle\n",
    "\n",
    "with open(\"./tree_v4_improved.pkl\", \"rb\") as f:\n",
    "    root = pickle.load(f)"
   ]
  },
  {
   "cell_type": "code",
   "execution_count": 2,
   "id": "f9b2fdb6",
   "metadata": {},
   "outputs": [],
   "source": [
    "from model import Node, optimize_tree"
   ]
  },
  {
   "cell_type": "code",
   "execution_count": 3,
   "id": "29bfda47",
   "metadata": {},
   "outputs": [],
   "source": [
    "from typing import Callable\n",
    "from langchain_ollama import ChatOllama\n",
    "from pydantic import BaseModel, Field\n",
    "from langchain_core.prompts import ChatPromptTemplate\n",
    "from langchain_core.messages import HumanMessage\n",
    "from langchain_community.callbacks import get_openai_callback\n",
    "from typing import Callable, Optional, Tuple\n",
    "from langchain_core.language_models.chat_models import BaseChatModel\n",
    "from model.data import TokenCounts\n",
    "from langchain_core.embeddings import Embeddings\n",
    "\n",
    "\n",
    "create_llm = lambda: ChatOllama(\n",
    "    model=\"qwen2.5:32b\",\n",
    "    # temperature=0,\n",
    ")\n",
    "\n",
    "from langchain_ollama import OllamaEmbeddings\n",
    "\n",
    "embeddings = OllamaEmbeddings(\n",
    "    model=\"mxbai-embed-large\",\n",
    ")\n",
    "\n",
    "class ImprovedCategory(BaseModel):\n",
    "    reasoning: str = Field(description=\"Reasoning on your choice.\")\n",
    "    category_name: str = Field(description=\"The improved category name which properly describes the elements within; in plain english.\")\n",
    "\n",
    "def prompt_improved_category_description(node: Node, create_llm: Callable[[], BaseChatModel]) -> Tuple[ImprovedCategory, TokenCounts]:\n",
    "    template = \"\"\"\n",
    "    With the following items within a category, create a new category name which closely describes its contents.\n",
    "    Someone reading the new category name should immediately know if the item they are looking for is contained within the category.\n",
    "    The name should be a reasonably short length so that it can be read quickly and entirely in english.\n",
    "    The name should be specific to only the contents within so that it is not ambiguous with other categories.\n",
    "    The name should describe ALL of the contents within.\n",
    "    \n",
    "    Items:\n",
    "    {items}\n",
    "    \"\"\".strip()    \n",
    "    \n",
    "    \n",
    "    prompt = ChatPromptTemplate.from_template(template)\n",
    "    items = \"\\n\".join([n.condition for n in node.children])\n",
    "    prompt = prompt.format(items=items)\n",
    "    \n",
    "    with get_openai_callback() as cb:\n",
    "        llm = create_llm().with_structured_output(ImprovedCategory)\n",
    "        response = llm.invoke([HumanMessage(prompt)])\n",
    "        \n",
    "    return response, TokenCounts(prompt=cb.prompt_tokens, completion=cb.completion_tokens, total=cb.total_tokens)\n",
    "\n",
    "\n",
    "class DuplicateCategories(BaseModel):\n",
    "    reasoning: str = Field(description='Reasoning on your choice of categories.')\n",
    "    duplicate_categories: list[int] = Field(description='A single subset of categories that are duplicates-of or near-duplicates-of each other. Give the numbers of the categories chosen according to the list. Example: [1, 2] where 1 and 2 are \"Beauty and Personal Care\" and \"Personal Care Products\"')\n",
    "    \n",
    "    \n",
    "def prompt_duplicate_categories(node: Node, create_llm: Callable[[], BaseChatModel]) -> Tuple[list[Node], TokenCounts]:\n",
    "    template = \"\"\"\n",
    "    You will be given a list of categories that may contain duplicates or near-duplicates.\n",
    "    Two or more categories should be considered duplicates or near-duplicates if and only if there would be significant overlap in the items that fit within them or if they are ambiguous with each other.\n",
    "    Give a set of duplicates or near-duplicates if they are found. Only include a single subset of duplicates that overlap with each other.\n",
    "    \n",
    "    Categories:\n",
    "    {cats}\n",
    "    \"\"\".strip()    \n",
    "    \n",
    "    \n",
    "    prompt = ChatPromptTemplate.from_template(template)\n",
    "    items = \"\\n \".join([f\"{i+1}. {n.condition}\" for i, n in enumerate(node.children)])\n",
    "    prompt = prompt.format(cats=items)\n",
    "    \n",
    "    with get_openai_callback() as cb:\n",
    "        llm = create_llm().with_structured_output(DuplicateCategories)\n",
    "        response: DuplicateCategories = llm.invoke([HumanMessage(prompt)])\n",
    "    \n",
    "    res = []\n",
    "    for idx in response.duplicate_categories:\n",
    "        res.append(node.children[idx-1])\n",
    "        \n",
    "    return res, TokenCounts(prompt=cb.prompt_tokens, completion=cb.completion_tokens, total=cb.total_tokens)"
   ]
  },
  {
   "cell_type": "code",
   "execution_count": 4,
   "id": "ec0753b7",
   "metadata": {},
   "outputs": [],
   "source": [
    "from ipywidgets import IntProgress, VBox, Label\n",
    "from IPython.display import display\n",
    "import time\n",
    "\n",
    "def seconds_to_iso_format(seconds: float) -> str:\n",
    "    days, remainder = divmod(int(seconds), 86400)\n",
    "    hours, remainder = divmod(remainder, 3600)\n",
    "    minutes, secs = divmod(remainder, 60)\n",
    "    return f\"{days}:{hours}:{minutes}:{secs}\"\n",
    "\n",
    "def improve_category_descriptions(root: Node, create_llm: Callable[[], BaseChatModel]) -> TokenCounts:\n",
    "    def count_non_leaf_nodes(node: Node) -> int:\n",
    "        if node.is_leaf():\n",
    "            return 0\n",
    "        count = 0 if node.is_root() else 1\n",
    "        return count + sum(count_non_leaf_nodes(child) for child in node.children)\n",
    "\n",
    "    total_nodes = count_non_leaf_nodes(root)\n",
    "\n",
    "    progress_bar = IntProgress(min=0, max=total_nodes, description='Progress:', bar_style='info')\n",
    "    label = Label(value=f\"0/{total_nodes} nodes processed\")\n",
    "    time_label = Label(value=\"Estimating time...\")\n",
    "    display(VBox([progress_bar, label, time_label]))\n",
    "\n",
    "    processed_nodes = 0\n",
    "    start_time = time.time()\n",
    "\n",
    "    def recur(node: Node) -> TokenCounts:\n",
    "        nonlocal processed_nodes\n",
    "        if node.is_leaf():\n",
    "            return TokenCounts()\n",
    "        all_tokens = TokenCounts()\n",
    "        for n in node.children:\n",
    "            all_tokens += recur(n)\n",
    "        \n",
    "        improved_desc, tokens = prompt_improved_category_description(node=node, create_llm=create_llm)\n",
    "        print(f\"Created new category name: {node.condition} -> {improved_desc.category_name}\")\n",
    "        node.condition = improved_desc.category_name\n",
    "\n",
    "        processed_nodes += 1\n",
    "        elapsed_time = time.time() - start_time\n",
    "        progress_bar.value = processed_nodes\n",
    "        label.value = f\"{processed_nodes}/{total_nodes} nodes processed\"\n",
    "        estimated_total_time = elapsed_time / processed_nodes * total_nodes\n",
    "        remaining_time = estimated_total_time - elapsed_time\n",
    "        time_label.value = f\"Estimated remaining time: {seconds_to_iso_format(remaining_time)}\"\n",
    "        \n",
    "        return all_tokens + tokens\n",
    "\n",
    "    tokens = TokenCounts()\n",
    "    for c in root.children:\n",
    "        tokens += recur(c)\n",
    "    \n",
    "    return tokens"
   ]
  },
  {
   "cell_type": "code",
   "execution_count": 5,
   "id": "c883e227",
   "metadata": {},
   "outputs": [],
   "source": [
    "from typing import List\n",
    "\n",
    "MAX_CHILDREN = 15\n",
    "\n",
    "def fill_to_max_children(node: 'Node', max_children: int):\n",
    "    # Process bottom-up\n",
    "    for child in node.children:\n",
    "        fill_to_max_children(child, max_children)\n",
    "\n",
    "    # Try to pull up children from child nodes, if possible\n",
    "    i = 0\n",
    "    while i < len(node.children):\n",
    "        child = node.children[i]\n",
    "        # Only consider if node can still add more children, and child is not a leaf\n",
    "        if len(node.children) < max_children and not child.is_leaf():\n",
    "            # How many new children would be added if we moved all of child's children up?\n",
    "            num_to_add = len(child.children) - 1  # since the child itself would be removed\n",
    "            possible_new_count = len(node.children) + num_to_add\n",
    "\n",
    "            # Can we fit all of child's children under node? (after removing child itself)\n",
    "            if possible_new_count <= max_children:\n",
    "                node.children.pop(i)\n",
    "                node.add_children(child.children)\n",
    "                child.children = []  # clear, as good practice\n",
    "                continue\n",
    "        i += 1\n",
    "        \n",
    "def resolve_duplicates(node: Node, embeddings: Embeddings, create_llm: Callable[[], BaseChatModel], max_children: int) -> Tuple[bool, TokenCounts]:\n",
    "    tokens = TokenCounts()\n",
    "    did_resolve_duplicates = False\n",
    "    if node.is_leaf():\n",
    "        return did_resolve_duplicates, tokens\n",
    "    \n",
    "    if all([n.is_leaf() for n in node.children]):\n",
    "        return did_resolve_duplicates, tokens\n",
    "    \n",
    "    for child in node.children:\n",
    "        did_work, t = resolve_duplicates(child, embeddings=embeddings, create_llm=create_llm, max_children=max_children)\n",
    "        did_resolve_duplicates = did_resolve_duplicates or did_work\n",
    "        tokens += t\n",
    "    \n",
    "    duplicates, t = prompt_duplicate_categories(node, create_llm=create_llm)\n",
    "    tokens += t\n",
    "    \n",
    "    if len(duplicates) > 0:\n",
    "        if all([n.is_leaf() for n in duplicates]):\n",
    "            return did_resolve_duplicates, tokens\n",
    "        \n",
    "        did_resolve_duplicates = True\n",
    "        print(f\"Found duplicates: {[d.condition for d in duplicates]}\")\n",
    "        new_parent = Node(condition=\"TBD\", parent=node)\n",
    "        for old_parent in duplicates:\n",
    "            node.children.remove(old_parent)\n",
    "            new_parent.add_children(old_parent.children)\n",
    "        node.add_children([new_parent])\n",
    "        tokens += optimize_tree(root=node, max_children=max_children, embeddings=embeddings, create_llm=create_llm)\n",
    "        improved_category, t = prompt_improved_category_description(new_parent, create_llm=create_llm)\n",
    "        tokens += t\n",
    "        new_parent.condition = improved_category.category_name\n",
    "        \n",
    "            \n",
    "    return did_resolve_duplicates, tokens\n",
    "\n",
    "\n",
    "\n",
    "def improve_tree(root: Node, embeddings: Embeddings, create_llm: Callable[[], BaseChatModel], max_children: int) -> TokenCounts:\n",
    "    # first fill out layers to best of ability\n",
    "    # then, decide new category names based on content depth-first\n",
    "    # then identify duplicates and reassign children\n",
    "    #   if duplicates (2+ nodes), then combine into single node and begin subtree splitting\n",
    "    #   then repeat process\n",
    "    tokens = TokenCounts()\n",
    "    fill_to_max_children(root, max_children=MAX_CHILDREN)\n",
    "    t = improve_category_descriptions(root, create_llm=create_llm)\n",
    "    tokens += t\n",
    "    did_work, t = resolve_duplicates(root, embeddings=embeddings, create_llm=create_llm, max_children=max_children)\n",
    "    tokens += t\n",
    "    if did_work:\n",
    "        tokens += improve_tree(root=root, embeddings=embeddings, create_llm=create_llm, max_children=max_children)\n",
    "        \n",
    "    return tokens"
   ]
  },
  {
   "cell_type": "code",
   "execution_count": 6,
   "id": "b3f8f689",
   "metadata": {},
   "outputs": [
    {
     "data": {
      "application/vnd.jupyter.widget-view+json": {
       "model_id": "8e8c757d292145e8b40b49ce8d1b68e9",
       "version_major": 2,
       "version_minor": 0
      },
      "text/plain": [
       "VBox(children=(FigureWidget({\n",
       "    'data': [{'branchvalues': 'total',\n",
       "              'ids': [7ab68684-2b77-4d4d-…"
      ]
     },
     "metadata": {},
     "output_type": "display_data"
    }
   ],
   "source": [
    "from model import display_lazy_tree\n",
    "\n",
    "display_lazy_tree(root, max_initial_depth=8)"
   ]
  },
  {
   "cell_type": "code",
   "execution_count": 13,
   "id": "f7f991a9",
   "metadata": {},
   "outputs": [],
   "source": [
    "fill_to_max_children(root, max_children=MAX_CHILDREN)"
   ]
  },
  {
   "cell_type": "code",
   "execution_count": 14,
   "id": "671bc1a5",
   "metadata": {},
   "outputs": [
    {
     "data": {
      "application/vnd.jupyter.widget-view+json": {
       "model_id": "1e5254027f5d4341a32178d6c683be05",
       "version_major": 2,
       "version_minor": 0
      },
      "text/plain": [
       "VBox(children=(FigureWidget({\n",
       "    'data': [{'branchvalues': 'total',\n",
       "              'ids': [5bf0271d-9953-44ba-…"
      ]
     },
     "metadata": {},
     "output_type": "display_data"
    }
   ],
   "source": [
    "display_lazy_tree(root, max_initial_depth=8)"
   ]
  },
  {
   "cell_type": "code",
   "execution_count": 15,
   "id": "b9e3baa0",
   "metadata": {},
   "outputs": [
    {
     "name": "stdout",
     "output_type": "stream",
     "text": [
      "sub_branches: 74, avg: 5.6923076923076925, max: 15\n",
      "\n",
      "leaves at this level: 6\n",
      "sub_branches: 100, avg: 1.3513513513513513, max: 15\n",
      "\n",
      "leaves at this level: 66\n",
      "sub_branches: 77, avg: 0.77, max: 15\n",
      "\n",
      "leaves at this level: 92\n",
      "sub_branches: 10, avg: 0.12987012987012986, max: 6\n",
      "\n",
      "leaves at this level: 74\n",
      "sub_branches: 0, avg: 0.0, max: 0\n",
      "\n",
      "leaves at this level: 10\n",
      "total leaves: 248\n"
     ]
    }
   ],
   "source": [
    "from model import check_tree\n",
    "\n",
    "check_tree(root)"
   ]
  },
  {
   "cell_type": "code",
   "execution_count": 17,
   "id": "8d5863b2",
   "metadata": {},
   "outputs": [
    {
     "data": {
      "application/vnd.jupyter.widget-view+json": {
       "model_id": "97ecdf17108340f8bdb61bb8546e89af",
       "version_major": 2,
       "version_minor": 0
      },
      "text/plain": [
       "VBox(children=(IntProgress(value=0, bar_style='info', description='Progress:', max=26), Label(value='0/26 node…"
      ]
     },
     "metadata": {},
     "output_type": "display_data"
    },
    {
     "name": "stdout",
     "output_type": "stream",
     "text": [
      "Created new category name: Baby & Kids Supplies -> Baby & Kids Care & Play Essentials\n",
      "Created new category name: Education & Research Supplies -> Children's Apparel & Educational Essentials\n",
      "Created new category name: Home and Baby Essentials -> Baby & Small Pet Essentials\n",
      "Created new category name: Consumer Goods -> Travel & Personal Gear\n",
      "Created new category name: Jewelry & Accessories -> Personal Decorative Accessories\n",
      "Created new category name: Fashions & Accessories -> Fashion & Accessories\n",
      "Created new category name: Home Entertainment & Office Electronics -> Display & Immersive Tech\n",
      "Created new category name: Electronics -> Personal Tech & Accessories\n",
      "Created new category name: Car Electronics & Accessories -> Automotive Parts & Accessories\n",
      "Created new category name: Smart Home: New Smart Devices -> Smart Home Devices & Solutions\n",
      "Created new category name: Electronics & Gadgets -> Smart Tech & Electronics\n",
      "Created new category name: DIY Projects & Craft Supplies -> Craft Supplies & Organization\n",
      "Created new category name: Kid-Friendly Furniture & Decor -> Baby Room Essentials\n",
      "Created new category name: Home Décor Products -> Home Enhancement & Essentials\n",
      "Created new category name: Lighting & Ceiling Fans -> Lighting & Accessories\n",
      "Created new category name: Home Improvement & Tools -> Construction & Maintenance Supplies\n",
      "Created new category name: Consumer Lifestyle Goods -> Consumer Goods & Accessories\n",
      "Created new category name: Toys & Games -> Children's Play & Learning Toys\n",
      "Created new category name: Console Gaming -> Console Gaming Systems & Media\n",
      "Created new category name: Video Game Consoles & Accessories -> Multi-Platform Gaming Systems & Services\n",
      "Created new category name: Leisure Activities & Entertainment -> Leisure & Hobby Activities\n",
      "Created new category name: Motor Vehicle Accessories -> Vehicle Parts & Accessories\n",
      "Created new category name: Industrial & Commercial Goods -> Industrial Supplies & Safety Equipment\n",
      "Created new category name: Personal Care & Health -> Personal Health & Beauty Care\n",
      "Created new category name: Health & Wellness -> Personal & Family Health & Wellness\n",
      "Created new category name: Animals & Pets -> Pet & Animal Supplies\n",
      "Found duplicates: ['Console Gaming Systems & Media', 'Games & Accessories', 'Video Games']\n",
      "Found duplicates: ['Personal Health & Beauty Care', 'Health Care Products', 'Beauty & Personal Care', 'Personal Care Products']\n",
      "Found duplicates: ['Consumer Goods & Accessories', 'Accessories & Supplies']\n"
     ]
    },
    {
     "data": {
      "application/vnd.jupyter.widget-view+json": {
       "model_id": "599c5b228560489bb1f6ff90f1f9a85c",
       "version_major": 2,
       "version_minor": 0
      },
      "text/plain": [
       "VBox(children=(IntProgress(value=0, bar_style='info', description='Progress:', max=26), Label(value='0/26 node…"
      ]
     },
     "metadata": {},
     "output_type": "display_data"
    },
    {
     "name": "stdout",
     "output_type": "stream",
     "text": [
      "Created new category name: Baby & Kids Care & Play Essentials -> Baby & Kids Care & Play Gear\n",
      "Created new category name: Children's Apparel & Educational Essentials -> Child Development & Education Supplies\n",
      "Created new category name: Children's Play & Learning Toys -> Children's Play & Learning Toys\n",
      "Created new category name: Gaming Systems & Software -> Console Gaming Systems & Media\n",
      "Created new category name: Multi-Platform Gaming Systems & Services -> Multi-Platform Gaming & Services\n",
      "Created new category name: Leisure & Hobby Activities -> Leisure & Hobby Activities\n",
      "Created new category name: Vehicle Parts & Accessories -> Vehicle Maintenance & Parts\n",
      "Created new category name: Industrial Supplies & Safety Equipment -> Industrial Tools & Supplies\n",
      "Created new category name: Personal Care & Wellness Products -> Personal Health & Beauty Essentials\n",
      "Created new category name: Personal & Family Health & Wellness -> Health & Wellness Essentials\n",
      "Created new category name: Pet & Animal Supplies -> Pet Care Supplies\n",
      "Created new category name: Baby & Small Pet Essentials -> Baby Care & Small Pet Supplies\n",
      "Created new category name: Travel & Personal Gear -> Personal & Travel Essentials\n",
      "Created new category name: Personal Decorative Accessories -> Personal Adornments\n",
      "Created new category name: Fashion & Accessories -> Apparel & Accessories\n",
      "Created new category name: Display & Immersive Tech -> Media Display & Immersive Technologies\n",
      "Created new category name: Personal Tech & Accessories -> Portable Tech & Electronics\n",
      "Created new category name: Automotive Parts & Accessories -> Comprehensive Auto Parts & Accessories\n",
      "Created new category name: Smart Home Devices & Solutions -> Smart Home Automation & Security Solutions\n",
      "Created new category name: Smart Tech & Electronics -> Tech Devices & Components\n",
      "Created new category name: Craft Supplies & Organization -> Crafts & Hobby Storage Solutions\n",
      "Created new category name: Baby Room Essentials -> Nursery Essentials\n",
      "Created new category name: Home Enhancement & Essentials -> Home Improvement & Decor Essentials\n",
      "Created new category name: Lighting & Accessories -> Lighting & Bulbs\n",
      "Created new category name: Construction & Maintenance Supplies -> Home & Commercial Maintenance Supplies\n",
      "Created new category name: Daily Life & Lifestyle Essentials -> Personal & Home Essentials\n",
      "Found duplicates: ['Home Improvement & Decor Essentials', 'Tools & Home Improvement', 'Industrial Power & Hand Tools', 'Power Tools & Hand Tools']\n"
     ]
    },
    {
     "data": {
      "application/vnd.jupyter.widget-view+json": {
       "model_id": "990b95d7c4d447babf6518c02c980afb",
       "version_major": 2,
       "version_minor": 0
      },
      "text/plain": [
       "VBox(children=(IntProgress(value=0, bar_style='info', description='Progress:', max=25), Label(value='0/25 node…"
      ]
     },
     "metadata": {},
     "output_type": "display_data"
    },
    {
     "name": "stdout",
     "output_type": "stream",
     "text": [
      "Created new category name: Baby & Kids Care & Play Gear -> Baby & Kids Mobility & Play Essentials\n",
      "Created new category name: Child Development & Education Supplies -> Children's Apparel & Educational Supplies\n",
      "Created new category name: Children's Play & Learning Toys -> Children's Play & Learning Toys\n",
      "Created new category name: Console Gaming Systems & Media -> Gaming Systems & Media\n",
      "Created new category name: Multi-Platform Gaming & Services -> Multi-Platform Games & Accessories\n",
      "Created new category name: Leisure & Hobby Activities -> Leisure & Hobby Supplies\n",
      "Created new category name: Vehicle Maintenance & Parts -> Vehicle Maintenance & Parts\n",
      "Created new category name: Industrial Tools & Supplies -> Industrial Maintenance & Safety Supplies\n",
      "Created new category name: Personal Health & Beauty Essentials -> Personal Care & Health Essentials\n",
      "Created new category name: Health & Wellness Essentials -> Personal & Family Health Essentials\n",
      "Created new category name: Pet Care Supplies -> Pet & Animal Supplies\n",
      "Created new category name: Baby Care & Small Pet Supplies -> Baby & Pet Essentials\n",
      "Created new category name: Personal & Travel Essentials -> Travel & Carry Solutions\n",
      "Created new category name: Personal Adornments -> Personal Adornment & Jewelry\n",
      "Created new category name: Apparel & Accessories -> Fashion & Accessories\n",
      "Created new category name: Media Display & Immersive Technologies -> AudioVisual & VR Technology\n",
      "Created new category name: Portable Tech & Electronics -> Consumer Tech & Accessories\n",
      "Created new category name: Comprehensive Auto Parts & Accessories -> Auto Enhancement & Safety Accessories\n",
      "Created new category name: Smart Home Automation & Security Solutions -> Smart Home Automation & Security\n",
      "Created new category name: Tech Devices & Components -> Tech & Smart Devices\n",
      "Created new category name: Crafts & Hobby Storage Solutions -> Craft Materials & Storage\n",
      "Created new category name: Nursery Essentials -> Children's Room Essentials\n",
      "Created new category name: Home Essentials & Décor -> Home Decor & Essentials\n",
      "Created new category name: Home & Commercial Maintenance Supplies -> Building & Home Supplies\n",
      "Created new category name: Personal & Home Essentials -> Personal & Home Lifestyle Accessories\n",
      "Found duplicates: ['Sony PSP Games, Consoles & Accessories', 'Gaming Systems & Media']\n",
      "Found duplicates: ['Craft Materials & Storage', 'Home Storage & Organization']\n"
     ]
    },
    {
     "data": {
      "application/vnd.jupyter.widget-view+json": {
       "model_id": "f07ea430a053481eac2baf72a98825a5",
       "version_major": 2,
       "version_minor": 0
      },
      "text/plain": [
       "VBox(children=(IntProgress(value=0, bar_style='info', description='Progress:', max=24), Label(value='0/24 node…"
      ]
     },
     "metadata": {},
     "output_type": "display_data"
    },
    {
     "name": "stdout",
     "output_type": "stream",
     "text": [
      "Created new category name: Baby & Kids Mobility & Play Essentials -> Kids' Development & Play Gear\n",
      "Created new category name: Children's Apparel & Educational Supplies -> Children's Education & Apparel\n",
      "Created new category name: Children's Play & Learning Toys -> Children's Play & Learning Toys\n",
      "Created new category name: Console Gaming Systems & Media -> Gaming Systems & Titles\n",
      "Created new category name: Multi-Platform Games & Accessories -> Multi-Platform Gaming & Services\n",
      "Created new category name: Leisure & Hobby Supplies -> Leisure & Hobby Supplies\n",
      "Created new category name: Vehicle Maintenance & Parts -> Vehicle Maintenance & Powersports Equipment\n",
      "Created new category name: Industrial Maintenance & Safety Supplies -> Industrial Supplies & Equipment\n",
      "Created new category name: Personal Care & Health Essentials -> Personal Care & Health Products\n",
      "Created new category name: Personal & Family Health Essentials -> Health & Personal Care Essentials\n",
      "Created new category name: Pet & Animal Supplies -> Pet & Aquarium Supplies\n",
      "Created new category name: Baby & Pet Essentials -> Care & Safety for Babies & Pets\n",
      "Created new category name: Travel & Carry Solutions -> Travel & Craft Essentials\n",
      "Created new category name: Personal Adornment & Jewelry -> Gender-Specific Jewelry & Accessories\n",
      "Created new category name: Fashion & Accessories -> Gendered Apparel & Accessories\n",
      "Created new category name: AudioVisual & VR Technology -> Display & Audio Entertainment Systems\n",
      "Created new category name: Consumer Tech & Accessories -> Consumer Tech & Entertainment\n",
      "Created new category name: Auto Enhancement & Safety Accessories -> Automotive Enhancements & Accessories\n",
      "Created new category name: Smart Home Automation & Security -> Smart Home Automation & Security Devices\n",
      "Created new category name: Tech & Smart Devices -> Tech Gadgets & Smart Home Solutions\n",
      "Created new category name: Creative Hobbies & Supply Storage -> Crafting & Scrapbooking Essentials\n",
      "Created new category name: Home Decor & Essentials -> Home Furnishings & Décor\n",
      "Created new category name: Building & Home Supplies -> Building & Maintenance Supplies\n",
      "Created new category name: Personal & Home Lifestyle Accessories -> Personal & Home Essentials\n"
     ]
    },
    {
     "data": {
      "text/plain": [
       "TokenCounts(prompt=30180, completion=13909, total=44089)"
      ]
     },
     "execution_count": 17,
     "metadata": {},
     "output_type": "execute_result"
    }
   ],
   "source": [
    "improve_tree(root, embeddings=embeddings, create_llm=create_llm, max_children=MAX_CHILDREN)"
   ]
  },
  {
   "cell_type": "code",
   "execution_count": 18,
   "id": "a8616c37",
   "metadata": {},
   "outputs": [],
   "source": [
    "with open(\"./tree_v4_improved.pkl\", \"wb\") as f:\n",
    "    pickle.dump(root, f)"
   ]
  },
  {
   "cell_type": "code",
   "execution_count": 19,
   "id": "e11fbdd3",
   "metadata": {},
   "outputs": [
    {
     "data": {
      "application/vnd.jupyter.widget-view+json": {
       "model_id": "7f89d735edcf4c45a3b597162592447c",
       "version_major": 2,
       "version_minor": 0
      },
      "text/plain": [
       "VBox(children=(FigureWidget({\n",
       "    'data': [{'branchvalues': 'total',\n",
       "              'ids': [f614650a-2e0f-40b0-…"
      ]
     },
     "metadata": {},
     "output_type": "display_data"
    }
   ],
   "source": [
    "from model import display_lazy_tree\n",
    "\n",
    "display_lazy_tree(root, max_initial_depth=5)"
   ]
  },
  {
   "cell_type": "code",
   "execution_count": null,
   "id": "7bbc6ff6",
   "metadata": {},
   "outputs": [],
   "source": []
  }
 ],
 "metadata": {
  "kernelspec": {
   "display_name": ".venv",
   "language": "python",
   "name": "python3"
  },
  "language_info": {
   "codemirror_mode": {
    "name": "ipython",
    "version": 3
   },
   "file_extension": ".py",
   "mimetype": "text/x-python",
   "name": "python",
   "nbconvert_exporter": "python",
   "pygments_lexer": "ipython3",
   "version": "3.12.0"
  }
 },
 "nbformat": 4,
 "nbformat_minor": 5
}
